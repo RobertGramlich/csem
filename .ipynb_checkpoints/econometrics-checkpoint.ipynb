{
 "cells": [
  {
   "cell_type": "code",
   "execution_count": 1,
   "metadata": {},
   "outputs": [],
   "source": [
    "import pandas as pd\n",
    "import sklearn\n",
    "from tensorflow.keras.models import Sequential\n",
    "from tensorflow.keras.layers import Dense\n",
    "from tensorflow.keras.models import load_model\n",
    "from sklearn.model_selection import train_test_split\n",
    "import matplotlib.pyplot as plt\n",
    "import numpy as np\n",
    "import tensorflow as tf\n",
    "import nltk\n",
    "from sklearn.feature_extraction.text import TfidfVectorizer\n",
    "from tensorflow.keras.models import load_model\n",
    "from tensorflow import keras\n",
    "from sklearn.preprocessing import Normalizer\n",
    "from sqlalchemy import create_engine\n",
    "from sqlalchemy import MetaData, update, Table\n",
    "from sqlalchemy.orm import Session\n",
    "import pickle\n",
    "from sklearn.linear_model import LinearRegression\n",
    "from sklearn.preprocessing import PolynomialFeatures\n",
    "import math\n",
    "import seaborn as sns\n",
    "import matplotlib.pyplot as plt\n",
    "import statsmodels.api as sm\n",
    "from scipy import stats\n",
    "from scipy.stats import pearsonr"
   ]
  },
  {
   "cell_type": "code",
   "execution_count": 108,
   "metadata": {},
   "outputs": [],
   "source": [
    "def dfer(df1,country, var):\n",
    "    year = 0\n",
    "    df_holder = df1.loc[df1['Country Name'] == country]\n",
    "    for i in var:\n",
    "        df_year = df_holder.loc[df_holder[i] != \"..\"]['Time'].min()\n",
    "        if df_year > year:\n",
    "            year = df_year\n",
    "    df_holder = df_holder.loc[df_holder['Time'] >= year]\n",
    "    df_holder = df_holder.loc[df_holder['Time'] < 2022].reset_index(drop=True)\n",
    "    return df_holder[var]\n",
    "\n",
    "\n",
    "def modeller(x_axis,y_axis):\n",
    "    model.fit(x_axis, y_axis)\n",
    "    intercept = model.intercept_\n",
    "    coeffecient = model.coef_ \n",
    "    r_sq = model.score(x_axis, y_axis)\n",
    "    x_range = np.linspace(x_axis.min(), x_axis.max(), 100)\n",
    "    y_range = model.predict(x_range.reshape(-1, 1))\n",
    "    return intercept, coeffecient, r_sq, x_range, y_range\n",
    "\n",
    "def pears(xval,yval):\n",
    "    x1_ = np.array(xval.reshape(-1).astype(float))\n",
    "    yval = yval.array\n",
    "    y1_ = np.array(yval.astype(float))\n",
    "    r, p = pearsonr(x1_, y1_)\n",
    "    return r, p\n",
    "\n",
    "def gdper(df,column,val):\n",
    "    df = df.copy()\n",
    "    if val == 'b':\n",
    "        x_bil = []\n",
    "        for i in df[column]:\n",
    "            zold = int(i)\n",
    "            x_bil.append(zold/1000000000)\n",
    "        new_name = column + \" \" + \"in billions\"\n",
    "        df[column] = x_bil\n",
    "        de_raname = df.rename(columns={column: new_name})\n",
    "    elif val == 't':\n",
    "        x_tril = []\n",
    "        for i in df[column]:\n",
    "            zold = int(i)\n",
    "            x_tril.append(zold/1000000000000)\n",
    "        new_name = column + \" \" + \"in trillions\"\n",
    "        df[column] = x_tril\n",
    "        de_raname = df.rename(columns={column: new_name})\n",
    "    return de_raname\n",
    "\n",
    "def axiser(df,col1,col2):\n",
    "    x = df[col1].array.reshape(-1, 1)\n",
    "    y = df[col2]\n",
    "    return x , y"
   ]
  },
  {
   "cell_type": "code",
   "execution_count": 2,
   "metadata": {},
   "outputs": [],
   "source": [
    "econ = pd.read_excel(\"P_Data_Extract_From_World_Development_Indicators (1).xlsx\")"
   ]
  },
  {
   "cell_type": "code",
   "execution_count": 3,
   "metadata": {},
   "outputs": [],
   "source": [
    "econ_df = pd.DataFrame(econ)"
   ]
  },
  {
   "cell_type": "code",
   "execution_count": 98,
   "metadata": {},
   "outputs": [],
   "source": [
    "dgp_quint_cols = ['Time', 'GDP (current US$) [NY.GDP.MKTP.CD]','Income share held by lowest 20% [SI.DST.FRST.20]','Income share held by second 20% [SI.DST.02ND.20]','Income share held by third 20% [SI.DST.03RD.20]','Income share held by fourth 20% [SI.DST.04TH.20]','Income share held by highest 20% [SI.DST.05TH.20]']"
   ]
  },
  {
   "cell_type": "code",
   "execution_count": 99,
   "metadata": {},
   "outputs": [],
   "source": [
    "us_gdp_quint_df = dfer(econ_df,'United States',dgp_quint_cols)"
   ]
  },
  {
   "cell_type": "code",
   "execution_count": 102,
   "metadata": {},
   "outputs": [],
   "source": [
    "us_tril_df = gdper(us_gdp_quint_df,'GDP (current US$) [NY.GDP.MKTP.CD]','t')"
   ]
  },
  {
   "cell_type": "code",
   "execution_count": 93,
   "metadata": {},
   "outputs": [],
   "source": [
    "us_bil_df = gdper(us_gdp_quint_df,'GDP (current US$) [NY.GDP.MKTP.CD]','b')"
   ]
  },
  {
   "cell_type": "code",
   "execution_count": 31,
   "metadata": {},
   "outputs": [],
   "source": [
    "x=us_econ_df_clean['GDP (current US$) [NY.GDP.MKTP.CD]']\n",
    "x=x.array.reshape(-1, 1)\n",
    "x_log_=pd.Series(x_log).array.reshape(-1, 1)\n",
    "x_bil_=pd.Series(x_bil).array.reshape(-1, 1)\n",
    "x_tril_=pd.Series(x_tril).array.reshape(-1, 1)\n"
   ]
  },
  {
   "cell_type": "code",
   "execution_count": 105,
   "metadata": {},
   "outputs": [],
   "source": []
  },
  {
   "cell_type": "code",
   "execution_count": 107,
   "metadata": {},
   "outputs": [
    {
     "data": {
      "text/plain": [
       "['Income share held by lowest 20% [SI.DST.FRST.20]',\n",
       " 'Income share held by second 20% [SI.DST.02ND.20]',\n",
       " 'Income share held by third 20% [SI.DST.03RD.20]',\n",
       " 'Income share held by fourth 20% [SI.DST.04TH.20]',\n",
       " 'Income share held by highest 20% [SI.DST.05TH.20]']"
      ]
     },
     "execution_count": 107,
     "metadata": {},
     "output_type": "execute_result"
    }
   ],
   "source": [
    "dgp_quint_cols[2:]"
   ]
  },
  {
   "cell_type": "code",
   "execution_count": 109,
   "metadata": {},
   "outputs": [],
   "source": [
    "x1, y1 = axiser(us_tril_df, 'GDP (current US$) [NY.GDP.MKTP.CD] in trillions', 'Income share held by lowest 20% [SI.DST.FRST.20]')"
   ]
  },
  {
   "cell_type": "code",
   "execution_count": 113,
   "metadata": {},
   "outputs": [],
   "source": [
    "y_vals = []\n",
    "for i in dgp_quint_cols[2:]:\n",
    "    _, y = axiser(us_tril_df, 'GDP (current US$) [NY.GDP.MKTP.CD] in trillions', i)\n",
    "    y_vals.append(y)"
   ]
  },
  {
   "cell_type": "code",
   "execution_count": null,
   "metadata": {},
   "outputs": [],
   "source": []
  },
  {
   "cell_type": "code",
   "execution_count": null,
   "metadata": {},
   "outputs": [],
   "source": []
  },
  {
   "cell_type": "code",
   "execution_count": null,
   "metadata": {},
   "outputs": [],
   "source": []
  },
  {
   "cell_type": "code",
   "execution_count": 36,
   "metadata": {},
   "outputs": [],
   "source": [
    "int1, coef1, r_sq1, x_range1, y_range1 = modeller(x_tril_,y_1)\n",
    "int2, coef2, r_sq2, x_range2, y_range2 = modeller(x_tril_,y_2)\n",
    "int3, coef3, r_sq3, x_range3, y_range3 = modeller(x_tril_,y_3)\n",
    "int4, coef4, r_sq4, x_range4, y_range4 = modeller(x_tril_,y_4)\n",
    "int5, coef5, r_sq5, x_range5, y_range5 = modeller(x_tril_,y_5)\n",
    "\n",
    "y_1 = us_econ_df_clean['Income share held by lowest 20% [SI.DST.FRST.20]']\n",
    "y_2 = us_econ_df_clean['Income share held by second 20% [SI.DST.02ND.20]']\n",
    "y_3 = us_econ_df_clean['Income share held by third 20% [SI.DST.03RD.20]']\n",
    "y_4 = us_econ_df_clean['Income share held by fourth 20% [SI.DST.04TH.20]']\n",
    "y_5 = us_econ_df_clean['Income share held by highest 20% [SI.DST.05TH.20]']\n",
    "y_1=y_1.array\n",
    "y_2=y_2.array\n",
    "y_3=y_3.array\n",
    "y_4=y_4.array\n",
    "y_5=y_5.array\n",
    "\n",
    "r1, p1 = pears(x_tril_, y_1)\n",
    "r2, p2 = pears(x_tril_, y_2)\n",
    "r3, p3 = pears(x_tril_, y_3)\n",
    "r4, p4 = pears(x_tril_, y_4)\n",
    "r5, p5 = pears(x_tril_, y_5)"
   ]
  },
  {
   "cell_type": "code",
   "execution_count": 37,
   "metadata": {},
   "outputs": [],
   "source": [
    "visual_df=pd.DataFrame()\n",
    "visual_df['GDP_bil'] = pd.Series(x_bil)\n",
    "visual_df['GDP_tril'] = pd.Series(x_tril)\n",
    "visual_df['quintile1'] = y_1\n",
    "visual_df['quintile2'] = y_2\n",
    "visual_df['quintile3'] = y_3\n",
    "visual_df['quintile4'] = y_4\n",
    "visual_df['quintile5'] = y_5"
   ]
  },
  {
   "cell_type": "code",
   "execution_count": 38,
   "metadata": {},
   "outputs": [
    {
     "data": {
      "image/png": "[encoded data removed]",
      "text/plain": [
       "<Figure size 1008x576 with 1 Axes>"
      ]
     },
     "metadata": {},
     "output_type": "display_data"
    }
   ],
   "source": [
    "#plt.figure(figsize=(12, 8))\n",
    "fig, ax = plt.subplots(figsize=(14, 8))\n",
    "fig.patch.set_facecolor('lightgrey')\n",
    "ax.set_facecolor('whitesmoke')\n",
    "sns.scatterplot(data=visual_df, x=visual_df['GDP_tril'], y=visual_df['quintile1'], color='blue', label='Quintile 1')\n",
    "plt.plot(x_range1, y_range1, color='red')\n",
    "sns.scatterplot(data=visual_df, x=visual_df['GDP_tril'], y=visual_df['quintile2'], color='green', label='Quintile 2')\n",
    "plt.plot(x_range2, y_range2, color='red')\n",
    "sns.scatterplot(data=visual_df, x=visual_df['GDP_tril'], y=visual_df['quintile3'], color='purple', label='Quintile 3')\n",
    "plt.plot(x_range3, y_range3, color='red')\n",
    "sns.scatterplot(data=visual_df, x=visual_df['GDP_tril'], y=visual_df['quintile4'], color='gray', label='Quintile 4')\n",
    "plt.plot(x_range4, y_range4, color='red')\n",
    "sns.scatterplot(data=visual_df, x=visual_df['GDP_tril'], y=visual_df['quintile5'], color='black', label='Quintile 5')\n",
    "plt.plot(x_range5, y_range5, color='red')\n",
    "plt.title('Plot of GDP (in trillions current USD) vs. % Share of income by Quintile')\n",
    "plt.xlabel('GDP')\n",
    "plt.ylabel('%Income share by quintile')\n",
    "plt.ylim(0, 50)\n",
    "plt.xlim(5,26.5)\n",
    "plt.legend(fontsize=18)\n",
    "plt.show()"
   ]
  },
  {
   "cell_type": "code",
   "execution_count": null,
   "metadata": {},
   "outputs": [],
   "source": [
    "Quintile 1 has an r = -0.58 and p-value = 0.00059\n",
    "Quintile 2 has an r = -0.77 and p-value = 4.36e-07\n",
    "Quintile 3 has an r = -0.75 and a p-value = 1.34e-06\n",
    "Quintile 4 has an r = -0.36 and a p-value = 0.045\n",
    "Quintile 5 has an r = 0.7 and a p-value = 1.22e-05"
   ]
  },
  {
   "cell_type": "code",
   "execution_count": null,
   "metadata": {},
   "outputs": [],
   "source": []
  },
  {
   "cell_type": "code",
   "execution_count": null,
   "metadata": {},
   "outputs": [],
   "source": []
  }
 ],
 "metadata": {
  "kernelspec": {
   "display_name": "Python 3",
   "language": "python",
   "name": "python3"
  },
  "language_info": {
   "codemirror_mode": {
    "name": "ipython",
    "version": 3
   },
   "file_extension": ".py",
   "mimetype": "text/x-python",
   "name": "python",
   "nbconvert_exporter": "python",
   "pygments_lexer": "ipython3",
   "version": "3.8.5"
  }
 },
 "nbformat": 4,
 "nbformat_minor": 4
}
